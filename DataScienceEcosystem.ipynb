{
 "cells": [
  {
   "cell_type": "markdown",
   "id": "a8647ffa-54bd-4985-8597-b6a8ebebd3bf",
   "metadata": {},
   "source": [
    "# Data Science Tools and Ecosystem"
   ]
  },
  {
   "cell_type": "markdown",
   "id": "5c37b3b4-e182-4c7c-aabd-a74a03ebae73",
   "metadata": {},
   "source": [
    "In this notebook, Data Science Tools and Ecosystem are summarized.\n"
   ]
  },
  {
   "cell_type": "markdown",
   "id": "1fa06b05-c1ac-4f0c-8aef-56f107e34891",
   "metadata": {},
   "source": [
    "Some of the most popular languages are : \n",
    "1. Python\n",
    "2. SQL\n",
    "3. R\n"
   ]
  },
  {
   "cell_type": "markdown",
   "id": "743f49c8-0d6b-4450-b956-571a1e1409ee",
   "metadata": {},
   "source": [
    "Some of the most famous librairies are :\n",
    "\n",
    "1. pandas\n",
    "2. matplotlib\n",
    "3. tensorflow ??"
   ]
  },
  {
   "cell_type": "markdown",
   "id": "0ba1fff5-47a6-4212-8bef-36273c4b7839",
   "metadata": {},
   "source": [
    "|Data Science Tools|\n",
    "|-|\n",
    "|MySQL|\n",
    "|Hadoop|\n",
    "|Github|\n",
    "|Rstudio|"
   ]
  },
  {
   "cell_type": "markdown",
   "id": "8b1deae5-3331-4cdc-8355-57f37eccabfb",
   "metadata": {},
   "source": [
    "### Below are a few examples of evaluating arithmetic expressions in Python."
   ]
  },
  {
   "cell_type": "code",
   "execution_count": 2,
   "id": "4dff88b3-af0f-4a3d-9450-94c7536153e0",
   "metadata": {
    "tags": []
   },
   "outputs": [
    {
     "data": {
      "text/plain": [
       "17"
      ]
     },
     "execution_count": 2,
     "metadata": {},
     "output_type": "execute_result"
    }
   ],
   "source": [
    "#This a simple arithmetic expression to mutiply then add integers\n",
    "(3*4)+5\n"
   ]
  },
  {
   "cell_type": "code",
   "execution_count": 15,
   "id": "50c46b3e-48ca-4d5b-aeca-564967b5f0b2",
   "metadata": {
    "tags": []
   },
   "outputs": [
    {
     "name": "stdout",
     "output_type": "stream",
     "text": [
      "3h20min\n"
     ]
    }
   ],
   "source": [
    "#This will convert 200 minutes to hours by diving by 60\n",
    "\n",
    "x=200\n",
    "h=0\n",
    "i=1\n",
    "while x//(60*i) > 0:\n",
    "    i+=1\n",
    "h=i-1\n",
    "y= str(h) + \"h\" + str(x-60*h) + \"min\"\n",
    "print(y)"
   ]
  },
  {
   "cell_type": "markdown",
   "id": "b2c036be-c5dd-4aa8-8dde-fb22fe4d3fb5",
   "metadata": {},
   "source": [
    "__Objectives:__\n",
    "\n",
    "- Learning Data Science Tools\n",
    "\n",
    "- Learning what is Data Science\n",
    "\n",
    "- Learning where to learn more about the different tools\n"
   ]
  },
  {
   "cell_type": "markdown",
   "id": "639835d6-b3b4-44a7-b58f-4191a40ddfbc",
   "metadata": {},
   "source": [
    "## Author ##\n",
    "Matthias POLI"
   ]
  },
  {
   "cell_type": "code",
   "execution_count": null,
   "id": "635f3e7d-a15b-44bc-bfee-40013a4c287f",
   "metadata": {},
   "outputs": [],
   "source": []
  }
 ],
 "metadata": {
  "kernelspec": {
   "display_name": "Python 3 (ipykernel)",
   "language": "python",
   "name": "python3"
  },
  "language_info": {
   "codemirror_mode": {
    "name": "ipython",
    "version": 3
   },
   "file_extension": ".py",
   "mimetype": "text/x-python",
   "name": "python",
   "nbconvert_exporter": "python",
   "pygments_lexer": "ipython3",
   "version": "3.11.5"
  }
 },
 "nbformat": 4,
 "nbformat_minor": 5
}
